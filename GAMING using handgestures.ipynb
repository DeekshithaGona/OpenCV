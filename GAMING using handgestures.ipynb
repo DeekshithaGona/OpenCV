{
 "cells": [
  {
   "cell_type": "code",
   "execution_count": 1,
   "id": "5a5dd41f",
   "metadata": {},
   "outputs": [],
   "source": [
    "import cv2\n",
    "from cvzone.HandTrackingModule import HandDetector\n",
    "from pynput.keyboard import Key , Controller\n",
    "\n",
    "cap = cv2.VideoCapture(0)\n",
    "cap.set(3, 720)\n",
    "cap.set(4, 420)\n",
    "\n",
    "detector = HandDetector(detectionCon = 0.7 , maxHands = 1)\n",
    "\n",
    "keyboard = Controller()\n",
    "while True:\n",
    "    _, img = cap.read()\n",
    "    hands , img = detector.findHands(img)\n",
    "    if hands:\n",
    "        fingers = detector.fingersUp(hands[0])\n",
    "        if fingers == [0,0,0,0,0] :\n",
    "            keyboard.press(Key.left) \n",
    "            keyboard.release(Key.right)\n",
    "        elif fingers == [1,1,1,1,1] :\n",
    "            keyboard.press(Key.right)\n",
    "            keyboard.release(Key.left)\n",
    "    else :\n",
    "        keyboard.release(Key.left)\n",
    "        keyboard.release(Key.right)\n",
    "    cv2.imshow(\"Lessssgooo\" , img)\n",
    "    if cv2.waitKey(1) == ord(\"q\"):\n",
    "        break"
   ]
  },
  {
   "cell_type": "code",
   "execution_count": 4,
   "id": "65580ccc",
   "metadata": {},
   "outputs": [
    {
     "name": "stdout",
     "output_type": "stream",
     "text": [
      "Requirement already satisfied: opencv-python in d:\\anaconda\\lib\\site-packages (4.7.0.72)\n",
      "Requirement already satisfied: numpy>=1.17.0 in d:\\anaconda\\lib\\site-packages (from opencv-python) (1.23.5)\n",
      "Note: you may need to restart the kernel to use updated packages.\n"
     ]
    }
   ],
   "source": [
    "pip install opencv-python"
   ]
  },
  {
   "cell_type": "code",
   "execution_count": 1,
   "id": "8e27eb31",
   "metadata": {},
   "outputs": [
    {
     "name": "stdout",
     "output_type": "stream",
     "text": [
      "Collecting cvzone\n",
      "  Downloading cvzone-1.5.6.tar.gz (12 kB)\n",
      "  Preparing metadata (setup.py): started\n",
      "  Preparing metadata (setup.py): finished with status 'done'\n",
      "Requirement already satisfied: opencv-python in d:\\anaconda\\lib\\site-packages (from cvzone) (4.7.0.72)\n",
      "Requirement already satisfied: numpy in d:\\anaconda\\lib\\site-packages (from cvzone) (1.23.5)\n",
      "Building wheels for collected packages: cvzone\n",
      "  Building wheel for cvzone (setup.py): started\n",
      "  Building wheel for cvzone (setup.py): finished with status 'done'\n",
      "  Created wheel for cvzone: filename=cvzone-1.5.6-py3-none-any.whl size=18760 sha256=5194d8b398e36666ffdfc9260c5b43b0405a5acb94edaba609ba769590473330\n",
      "  Stored in directory: c:\\users\\gonad\\appdata\\local\\pip\\cache\\wheels\\8f\\f5\\c7\\12fa693562c6b84cb98a0fef50a9cc6e0c4a11a38f11e4b7fa\n",
      "Successfully built cvzone\n",
      "Installing collected packages: cvzone\n",
      "Successfully installed cvzone-1.5.6\n",
      "Note: you may need to restart the kernel to use updated packages.\n"
     ]
    }
   ],
   "source": [
    "pip install cvzone"
   ]
  },
  {
   "cell_type": "code",
   "execution_count": 2,
   "id": "fbb46519",
   "metadata": {},
   "outputs": [
    {
     "name": "stdout",
     "output_type": "stream",
     "text": [
      "Collecting pynput\n",
      "  Downloading pynput-1.7.6-py2.py3-none-any.whl (89 kB)\n",
      "     ---------------------------------------- 89.2/89.2 kB 2.5 MB/s eta 0:00:00\n",
      "Requirement already satisfied: six in d:\\anaconda\\lib\\site-packages (from pynput) (1.16.0)\n",
      "Installing collected packages: pynput\n",
      "Successfully installed pynput-1.7.6\n",
      "Note: you may need to restart the kernel to use updated packages.\n"
     ]
    }
   ],
   "source": [
    "pip install pynput"
   ]
  },
  {
   "cell_type": "code",
   "execution_count": null,
   "id": "d02fae14",
   "metadata": {},
   "outputs": [],
   "source": []
  },
  {
   "cell_type": "code",
   "execution_count": null,
   "id": "8ffbf046",
   "metadata": {},
   "outputs": [],
   "source": []
  }
 ],
 "metadata": {
  "kernelspec": {
   "display_name": "Python 3 (ipykernel)",
   "language": "python",
   "name": "python3"
  },
  "language_info": {
   "codemirror_mode": {
    "name": "ipython",
    "version": 3
   },
   "file_extension": ".py",
   "mimetype": "text/x-python",
   "name": "python",
   "nbconvert_exporter": "python",
   "pygments_lexer": "ipython3",
   "version": "3.10.9"
  }
 },
 "nbformat": 4,
 "nbformat_minor": 5
}
